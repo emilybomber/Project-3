{
 "cells": [
  {
   "cell_type": "code",
   "execution_count": 41,
   "id": "feabc9c6",
   "metadata": {},
   "outputs": [],
   "source": [
    "# Import the dependencies.\n",
    "import pandas as pd\n",
    "import psycopg2"
   ]
  },
  {
   "cell_type": "code",
   "execution_count": 42,
   "id": "4ad99d22",
   "metadata": {},
   "outputs": [],
   "source": [
    "conn = psycopg2.connect(database = \"MicroplacticsV3\", \n",
    "                        user = \"postgres\", \n",
    "                        host= 'localhost',\n",
    "                        password = \"Avaska@2033\",\n",
    "                        port = 5432)"
   ]
  },
  {
   "cell_type": "code",
   "execution_count": 43,
   "id": "7f5f9e01",
   "metadata": {},
   "outputs": [
    {
     "name": "stdout",
     "output_type": "stream",
     "text": [
      "6427\n",
      "Pacific Ocean\n",
      "None\n",
      "None\n",
      "Neuston net\n",
      "0.0\n",
      "pieces/m3\n",
      "0-0.0005\n",
      "Very Low\n",
      "Law et al.2014\n",
      "Law, K.L, S.K. Morét-Ferguson, D.S. Goodwin, E.R. Zettler, E. DeForce, T. Kukulka, et al. 2014. Distribution of surface plastic debris in the eastern Pacific Ocean from an 11-year data set. Environ Sci Technol. 48(9):4732–8.\n",
      "https://doi.org/10.1021/es4053076\n",
      "Sea Education Association\n",
      "SEA\n",
      "211008.0\n",
      "https://www.ncei.noaa.gov/access/metadata/landing-page/bin/iso?id=gov.noaa.nodc:211008\n",
      "6.35\n",
      "-121.85\n",
      "2002-12-18\n",
      "be27c450-02ca-4261-8d89-cae21108e6cc\n",
      "-121.85\n",
      "6.35000000000002\n"
     ]
    }
   ],
   "source": [
    "cur = conn.cursor()\n",
    "cur.execute('SELECT * FROM Microplastics;')\n",
    "rows = cur.fetchone()\n",
    "conn.commit()\n",
    "for row in rows:\n",
    "    print(row)"
   ]
  },
  {
   "cell_type": "code",
   "execution_count": 60,
   "id": "f33cb6f8",
   "metadata": {},
   "outputs": [],
   "source": [
    "cur = conn.cursor()\n",
    "cur.execute('SELECT * FROM Microplastics;')\n",
    "conn.commit()"
   ]
  },
  {
   "cell_type": "code",
   "execution_count": 61,
   "id": "d91e545e",
   "metadata": {},
   "outputs": [
    {
     "data": {
      "text/html": [
       "<div>\n",
       "<style scoped>\n",
       "    .dataframe tbody tr th:only-of-type {\n",
       "        vertical-align: middle;\n",
       "    }\n",
       "\n",
       "    .dataframe tbody tr th {\n",
       "        vertical-align: top;\n",
       "    }\n",
       "\n",
       "    .dataframe thead th {\n",
       "        text-align: right;\n",
       "    }\n",
       "</style>\n",
       "<table border=\"1\" class=\"dataframe\">\n",
       "  <thead>\n",
       "    <tr style=\"text-align: right;\">\n",
       "      <th></th>\n",
       "      <th>OBJECTID</th>\n",
       "      <th>Oceans</th>\n",
       "      <th>Regions</th>\n",
       "      <th>SubRegions</th>\n",
       "      <th>Sampling_Method</th>\n",
       "      <th>Measurement</th>\n",
       "      <th>Unit</th>\n",
       "      <th>Density_Range</th>\n",
       "      <th>Density_Class</th>\n",
       "      <th>Short_Reference</th>\n",
       "      <th>...</th>\n",
       "      <th>Organization</th>\n",
       "      <th>Keywords</th>\n",
       "      <th>Accession_Number</th>\n",
       "      <th>Accession_Link</th>\n",
       "      <th>Latitude</th>\n",
       "      <th>Longitude</th>\n",
       "      <th>Date</th>\n",
       "      <th>GlobalID</th>\n",
       "      <th>x</th>\n",
       "      <th>y</th>\n",
       "    </tr>\n",
       "  </thead>\n",
       "  <tbody>\n",
       "    <tr>\n",
       "      <th>0</th>\n",
       "      <td>6427</td>\n",
       "      <td>Pacific Ocean</td>\n",
       "      <td>None</td>\n",
       "      <td>None</td>\n",
       "      <td>Neuston net</td>\n",
       "      <td>0.000</td>\n",
       "      <td>pieces/m3</td>\n",
       "      <td>0-0.0005</td>\n",
       "      <td>Very Low</td>\n",
       "      <td>Law et al.2014</td>\n",
       "      <td>...</td>\n",
       "      <td>Sea Education Association</td>\n",
       "      <td>SEA</td>\n",
       "      <td>211008.0</td>\n",
       "      <td>https://www.ncei.noaa.gov/access/metadata/land...</td>\n",
       "      <td>6.350000</td>\n",
       "      <td>-121.850000</td>\n",
       "      <td>2002-12-18</td>\n",
       "      <td>be27c450-02ca-4261-8d89-cae21108e6cc</td>\n",
       "      <td>-121.850000</td>\n",
       "      <td>6.350000</td>\n",
       "    </tr>\n",
       "    <tr>\n",
       "      <th>1</th>\n",
       "      <td>10672</td>\n",
       "      <td>Pacific Ocean</td>\n",
       "      <td>None</td>\n",
       "      <td>None</td>\n",
       "      <td>Manta net</td>\n",
       "      <td>0.013</td>\n",
       "      <td>pieces/m3</td>\n",
       "      <td>0.005-1</td>\n",
       "      <td>Medium</td>\n",
       "      <td>Goldstein et al.2013</td>\n",
       "      <td>...</td>\n",
       "      <td>Scripps Institution of Oceanography-University...</td>\n",
       "      <td>Great Pacific Garbage Patch/SEAPLEX</td>\n",
       "      <td>253448.0</td>\n",
       "      <td>https://www.ncei.noaa.gov/access/metadata/land...</td>\n",
       "      <td>0.500000</td>\n",
       "      <td>-95.350000</td>\n",
       "      <td>2006-10-17</td>\n",
       "      <td>23effcdd-35b7-4e1e-adb4-390693a287d3</td>\n",
       "      <td>-95.350000</td>\n",
       "      <td>0.500000</td>\n",
       "    </tr>\n",
       "    <tr>\n",
       "      <th>2</th>\n",
       "      <td>13921</td>\n",
       "      <td>Atlantic Ocean</td>\n",
       "      <td>None</td>\n",
       "      <td>None</td>\n",
       "      <td>Aluminum bucket</td>\n",
       "      <td>1368.000</td>\n",
       "      <td>pieces/m3</td>\n",
       "      <td>&gt;=10</td>\n",
       "      <td>Very High</td>\n",
       "      <td>Queiroz et al.2022</td>\n",
       "      <td>...</td>\n",
       "      <td>Federal University of Pará, Brazil</td>\n",
       "      <td>Amazon Continental Shelf</td>\n",
       "      <td>276482.0</td>\n",
       "      <td>https://www.ncei.noaa.gov/access/metadata/land...</td>\n",
       "      <td>0.631825</td>\n",
       "      <td>-45.398158</td>\n",
       "      <td>2018-10-17</td>\n",
       "      <td>16d77822-0533-4116-97b9-0bdb592f3d6e</td>\n",
       "      <td>-45.398158</td>\n",
       "      <td>0.631825</td>\n",
       "    </tr>\n",
       "    <tr>\n",
       "      <th>3</th>\n",
       "      <td>9344</td>\n",
       "      <td>Pacific Ocean</td>\n",
       "      <td>None</td>\n",
       "      <td>None</td>\n",
       "      <td>Grab sample</td>\n",
       "      <td>0.001</td>\n",
       "      <td>pieces/m3</td>\n",
       "      <td>0.0005-0.005</td>\n",
       "      <td>Low</td>\n",
       "      <td>Barrows et al.2018</td>\n",
       "      <td>...</td>\n",
       "      <td>Adventure Scientist</td>\n",
       "      <td>Adventure Scientist/Citizen Science</td>\n",
       "      <td>211009.0</td>\n",
       "      <td>https://www.ncei.noaa.gov/access/metadata/land...</td>\n",
       "      <td>16.623000</td>\n",
       "      <td>-99.697800</td>\n",
       "      <td>2015-01-03</td>\n",
       "      <td>b9e435e3-9e86-4143-8b51-877e5dcdc7a6</td>\n",
       "      <td>-99.697800</td>\n",
       "      <td>16.623000</td>\n",
       "    </tr>\n",
       "    <tr>\n",
       "      <th>4</th>\n",
       "      <td>5763</td>\n",
       "      <td>Atlantic Ocean</td>\n",
       "      <td>Caribbean Sea</td>\n",
       "      <td>None</td>\n",
       "      <td>Neuston net</td>\n",
       "      <td>0.000</td>\n",
       "      <td>pieces/m3</td>\n",
       "      <td>0-0.0005</td>\n",
       "      <td>Very Low</td>\n",
       "      <td>Law et al.2010</td>\n",
       "      <td>...</td>\n",
       "      <td>Sea Education Association</td>\n",
       "      <td>SEA</td>\n",
       "      <td>211007.0</td>\n",
       "      <td>https://www.ncei.noaa.gov/access/metadata/land...</td>\n",
       "      <td>19.770000</td>\n",
       "      <td>-81.060000</td>\n",
       "      <td>2007-03-15</td>\n",
       "      <td>3c57e795-589a-4836-8160-895d8ef960de</td>\n",
       "      <td>-81.060000</td>\n",
       "      <td>19.770000</td>\n",
       "    </tr>\n",
       "  </tbody>\n",
       "</table>\n",
       "<p>5 rows × 22 columns</p>\n",
       "</div>"
      ],
      "text/plain": [
       "   OBJECTID          Oceans        Regions SubRegions  Sampling_Method  \\\n",
       "0      6427   Pacific Ocean           None       None      Neuston net   \n",
       "1     10672   Pacific Ocean           None       None        Manta net   \n",
       "2     13921  Atlantic Ocean           None       None  Aluminum bucket   \n",
       "3      9344   Pacific Ocean           None       None      Grab sample   \n",
       "4      5763  Atlantic Ocean  Caribbean Sea       None      Neuston net   \n",
       "\n",
       "   Measurement       Unit Density_Range Density_Class       Short_Reference  \\\n",
       "0        0.000  pieces/m3      0-0.0005      Very Low        Law et al.2014   \n",
       "1        0.013  pieces/m3       0.005-1        Medium  Goldstein et al.2013   \n",
       "2     1368.000  pieces/m3          >=10     Very High    Queiroz et al.2022   \n",
       "3        0.001  pieces/m3  0.0005-0.005           Low    Barrows et al.2018   \n",
       "4        0.000  pieces/m3      0-0.0005      Very Low        Law et al.2010   \n",
       "\n",
       "   ...                                       Organization  \\\n",
       "0  ...                          Sea Education Association   \n",
       "1  ...  Scripps Institution of Oceanography-University...   \n",
       "2  ...                 Federal University of Pará, Brazil   \n",
       "3  ...                                Adventure Scientist   \n",
       "4  ...                          Sea Education Association   \n",
       "\n",
       "                              Keywords Accession_Number  \\\n",
       "0                                  SEA         211008.0   \n",
       "1  Great Pacific Garbage Patch/SEAPLEX         253448.0   \n",
       "2             Amazon Continental Shelf         276482.0   \n",
       "3  Adventure Scientist/Citizen Science         211009.0   \n",
       "4                                  SEA         211007.0   \n",
       "\n",
       "                                      Accession_Link   Latitude   Longitude  \\\n",
       "0  https://www.ncei.noaa.gov/access/metadata/land...   6.350000 -121.850000   \n",
       "1  https://www.ncei.noaa.gov/access/metadata/land...   0.500000  -95.350000   \n",
       "2  https://www.ncei.noaa.gov/access/metadata/land...   0.631825  -45.398158   \n",
       "3  https://www.ncei.noaa.gov/access/metadata/land...  16.623000  -99.697800   \n",
       "4  https://www.ncei.noaa.gov/access/metadata/land...  19.770000  -81.060000   \n",
       "\n",
       "         Date                              GlobalID           x          y  \n",
       "0  2002-12-18  be27c450-02ca-4261-8d89-cae21108e6cc -121.850000   6.350000  \n",
       "1  2006-10-17  23effcdd-35b7-4e1e-adb4-390693a287d3  -95.350000   0.500000  \n",
       "2  2018-10-17  16d77822-0533-4116-97b9-0bdb592f3d6e  -45.398158   0.631825  \n",
       "3  2015-01-03  b9e435e3-9e86-4143-8b51-877e5dcdc7a6  -99.697800  16.623000  \n",
       "4  2007-03-15  3c57e795-589a-4836-8160-895d8ef960de  -81.060000  19.770000  \n",
       "\n",
       "[5 rows x 22 columns]"
      ]
     },
     "execution_count": 61,
     "metadata": {},
     "output_type": "execute_result"
    }
   ],
   "source": [
    "df=pd.DataFrame(rows, columns=['OBJECTID','Oceans','Regions','SubRegions','Sampling_Method',\n",
    "                               'Measurement','Unit','Density_Range','Density_Class',\n",
    "                               'Short_Reference','Long_Reference','DOI','Organization','Keywords',\n",
    "                               'Accession_Number','Accession_Link','Latitude','Longitude','Date','GlobalID','x','y'])\n",
    "df.head()"
   ]
  },
  {
   "cell_type": "code",
   "execution_count": 51,
   "id": "4affdfb7",
   "metadata": {},
   "outputs": [
    {
     "name": "stdout",
     "output_type": "stream",
     "text": [
      "18969\n"
     ]
    }
   ],
   "source": [
    "#claculate total rows\n",
    "print(len(df))"
   ]
  },
  {
   "cell_type": "code",
   "execution_count": 62,
   "id": "3b944090",
   "metadata": {},
   "outputs": [
    {
     "data": {
      "text/plain": [
       "3"
      ]
     },
     "execution_count": 62,
     "metadata": {},
     "output_type": "execute_result"
    }
   ],
   "source": [
    "# Calculate the total number of Ocians\n",
    "ocian_countV2 = len(df[\"Oceans\"].value_counts())\n",
    "ocian_countV2"
   ]
  },
  {
   "cell_type": "code",
   "execution_count": 54,
   "id": "7ba552fb",
   "metadata": {},
   "outputs": [
    {
     "data": {
      "text/plain": [
       "array(['Pacific Ocean', 'Atlantic Ocean', None, 'Arctic Ocean'],\n",
       "      dtype=object)"
      ]
     },
     "execution_count": 54,
     "metadata": {},
     "output_type": "execute_result"
    }
   ],
   "source": [
    "#display all values in the column Ocians\n",
    "unique = df[\"Oceans\"].unique()\n",
    "unique"
   ]
  },
  {
   "cell_type": "code",
   "execution_count": 57,
   "id": "2ad28a76",
   "metadata": {},
   "outputs": [
    {
     "data": {
      "text/plain": [
       "Index(['OBJECTID', 'Oceans', 'Regions', 'SubRegions', 'Sampling_Method',\n",
       "       'Measurement', 'Unit', 'Density_Range', 'Density_Class',\n",
       "       'Short_Reference', 'Long_Reference', 'DOI', 'Organization', 'Keywords',\n",
       "       'Accession_Number', 'Accession_Link', 'Latitude', 'Longitude', 'Date',\n",
       "       'GlobalID', 'x', 'y'],\n",
       "      dtype='object')"
      ]
     },
     "execution_count": 57,
     "metadata": {},
     "output_type": "execute_result"
    }
   ],
   "source": [
    "df.columns"
   ]
  },
  {
   "cell_type": "code",
   "execution_count": null,
   "id": "a931f227",
   "metadata": {},
   "outputs": [],
   "source": []
  }
 ],
 "metadata": {
  "kernelspec": {
   "display_name": "Python 3 (ipykernel)",
   "language": "python",
   "name": "python3"
  },
  "language_info": {
   "codemirror_mode": {
    "name": "ipython",
    "version": 3
   },
   "file_extension": ".py",
   "mimetype": "text/x-python",
   "name": "python",
   "nbconvert_exporter": "python",
   "pygments_lexer": "ipython3",
   "version": "3.11.5"
  }
 },
 "nbformat": 4,
 "nbformat_minor": 5
}
